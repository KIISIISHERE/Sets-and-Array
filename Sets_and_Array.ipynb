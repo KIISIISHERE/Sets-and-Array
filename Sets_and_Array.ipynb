{
  "nbformat": 4,
  "nbformat_minor": 0,
  "metadata": {
    "colab": {
      "provenance": [],
      "authorship_tag": "ABX9TyOV9/3oaBygRuFJPm0ghkMm",
      "include_colab_link": true
    },
    "kernelspec": {
      "name": "python3",
      "display_name": "Python 3"
    },
    "language_info": {
      "name": "python"
    }
  },
  "cells": [
    {
      "cell_type": "markdown",
      "metadata": {
        "id": "view-in-github",
        "colab_type": "text"
      },
      "source": [
        "<a href=\"https://colab.research.google.com/github/KIISIISHERE/Sets-and-Array/blob/main/Sets_and_Array.ipynb\" target=\"_parent\"><img src=\"https://colab.research.google.com/assets/colab-badge.svg\" alt=\"Open In Colab\"/></a>"
      ]
    },
    {
      "cell_type": "code",
      "execution_count": 1,
      "metadata": {
        "colab": {
          "base_uri": "https://localhost:8080/"
        },
        "collapsed": true,
        "id": "JJSGU8ccy5H6",
        "outputId": "fd5fc64e-79fa-417d-a797-d2d07209c049"
      },
      "outputs": [
        {
          "output_type": "stream",
          "name": "stdout",
          "text": [
            "Set with integer elements: {1, 2, 3, 4, 5}\n",
            "Set with mixed data types: {1, 3.14, 'hello'}\n",
            "Set with duplicate elements removed: {1, 2, 3, 4}\n",
            "Set created from list: {1, 2, 3}\n",
            "Set after removing the first element: {1, 3, 4, 5}\n"
          ]
        }
      ],
      "source": [
        "# 1. Create a set with integer elements\n",
        "integer_set = {1, 2, 3, 4, 5}\n",
        "print(\"Set with integer elements:\", integer_set)\n",
        "# 2. Create a set with mixed data type elements\n",
        "mixed_set = {1, \"hello\", 3.14, True}\n",
        "print(\"Set with mixed data types:\", mixed_set)\n",
        "# 3. Create another set with elements - 1, 2, 3, 4, 3, 2\n",
        "# Duplicate elements are removed automatically in sets\n",
        "duplicate_set = {1, 2, 3, 4, 3, 2}\n",
        "print(\"Set with duplicate elements removed:\", duplicate_set)\n",
        "# 4. Create a set from a list with elements - [1, 2, 3, 2]\n",
        "list_to_set = set([1, 2, 3, 2])\n",
        "print(\"Set created from list:\", list_to_set)\n",
        "# 5. Print the set after removing the first element from this set - [0, 1, 3, 4, 5]\n",
        "# Note: Sets are unordered, so we need to convert to list to remove \"first\" element\n",
        "original_list = [0, 1, 3, 4, 5]\n",
        "temp_set = set(original_list)\n",
        "temp_list = list(temp_set)\n",
        "temp_list.pop(0) # remove the first element\n",
        "new_set = set(temp_list)\n",
        "print(\"Set after removing the first element:\", new_set)"
      ]
    },
    {
      "cell_type": "code",
      "source": [
        "# Define the sets\n",
        "set1 = {\"green\", \"blue\"}\n",
        "set2 = {\"blue\", \"yellow\"}\n",
        "# Find the Intersection\n",
        "intersection_set = set1.intersection(set2)\n",
        "# Print the result\n",
        "print(\"value found in both set1 and set2:\", intersection_set)"
      ],
      "metadata": {
        "colab": {
          "base_uri": "https://localhost:8080/"
        },
        "collapsed": true,
        "id": "kU8PZ4W54Heu",
        "outputId": "bc4d6134-b0c1-4cc1-ea38-55ef5c795982"
      },
      "execution_count": 2,
      "outputs": [
        {
          "output_type": "stream",
          "name": "stdout",
          "text": [
            "value found in both set1 and set2: {'blue'}\n"
          ]
        }
      ]
    },
    {
      "cell_type": "code",
      "source": [
        "arr = list(map(int, input(\"Enter numbers seperated by space \").split()))\n",
        "count_3 = arr.count(3)\n",
        "reversed_arr = arr[::-1]\n",
        "print(\"Occurences of 3:\", count_3)\n",
        "print(\"Reversed array:\", reversed_arr)"
      ],
      "metadata": {
        "colab": {
          "base_uri": "https://localhost:8080/"
        },
        "id": "ZhbecmFD5wM5",
        "outputId": "2f7fda34-73c6-4f65-dc0c-dfcb56f1e191"
      },
      "execution_count": 4,
      "outputs": [
        {
          "output_type": "stream",
          "name": "stdout",
          "text": [
            "Enter numbers seperated by space 2 1 3 4\n",
            "Occurences of 3: 1\n",
            "Reversed array: [4, 3, 1, 2]\n"
          ]
        }
      ]
    }
  ]
}